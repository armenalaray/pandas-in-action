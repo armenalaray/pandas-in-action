{
 "cells": [
  {
   "cell_type": "code",
   "execution_count": 59,
   "id": "7caa7d24-6c0a-4c5c-a1a6-a20e93734229",
   "metadata": {},
   "outputs": [],
   "source": [
    "import pandas as pd\n",
    "\n",
    "pokemon = pd.read_csv(filepath_or_buffer=\"pokemon.csv\", index_col=\"Pokemon\").squeeze()\n"
   ]
  },
  {
   "cell_type": "code",
   "execution_count": 60,
   "id": "ed20e0e4-5662-456c-89ad-b98cb4528dd6",
   "metadata": {},
   "outputs": [
    {
     "data": {
      "text/plain": [
       "Date\n",
       "2004-08-19      49.98\n",
       "2004-08-20      53.95\n",
       "2004-08-23      54.50\n",
       "2004-08-24      52.24\n",
       "2004-08-25      52.80\n",
       "               ...   \n",
       "2019-10-21    1246.15\n",
       "2019-10-22    1242.80\n",
       "2019-10-23    1259.13\n",
       "2019-10-24    1260.99\n",
       "2019-10-25    1265.13\n",
       "Name: Close, Length: 3824, dtype: float64"
      ]
     },
     "execution_count": 60,
     "metadata": {},
     "output_type": "execute_result"
    }
   ],
   "source": [
    "google = pd.read_csv(\n",
    "    filepath_or_buffer=\"google_stocks.csv\", \n",
    "    parse_dates=[\"Date\"], \n",
    "    index_col=\"Date\"\n",
    ").squeeze()\n",
    "\n",
    "google"
   ]
  },
  {
   "cell_type": "markdown",
   "id": "2ee7f5d4-fa2c-49ae-8941-a1d49f9fb408",
   "metadata": {},
   "source": [
    "This read a csv and converts it into a series object "
   ]
  },
  {
   "cell_type": "code",
   "execution_count": 61,
   "id": "4b942536-9701-4f77-a0ed-0f4ea6ed5065",
   "metadata": {},
   "outputs": [],
   "source": [
    "battles = pd.read_csv(\n",
    "    filepath_or_buffer=\"revolutionary_war.csv\", \n",
    "    parse_dates=[\"Start Date\"], \n",
    "    index_col=\"Start Date\", \n",
    "    usecols=[\"Start Date\", \"State\"]\n",
    ").squeeze()"
   ]
  },
  {
   "cell_type": "code",
   "execution_count": 62,
   "id": "c8a22699-433a-4ad8-90e0-3f2600b9e64c",
   "metadata": {},
   "outputs": [
    {
     "data": {
      "text/plain": [
       "Date\n",
       "2019-04-29    1287.58\n",
       "Name: Close, dtype: float64"
      ]
     },
     "execution_count": 62,
     "metadata": {},
     "output_type": "execute_result"
    }
   ],
   "source": [
    "google.sort_values(ascending=False).head(1)"
   ]
  },
  {
   "cell_type": "code",
   "execution_count": 63,
   "id": "b9fe31fb-419c-4900-b168-8b7b9c1c3478",
   "metadata": {},
   "outputs": [
    {
     "data": {
      "text/plain": [
       "Pokemon\n",
       "Empoleon      Water / Steel\n",
       "Corsola        Water / Rock\n",
       "Relicanth      Water / Rock\n",
       "Carracosta     Water / Rock\n",
       "Tirtouga       Water / Rock\n",
       "                  ...      \n",
       "Kricketune              Bug\n",
       "Cascoon                 Bug\n",
       "Scatterbug              Bug\n",
       "Kricketot               Bug\n",
       "Grubbin                 Bug\n",
       "Name: Type, Length: 809, dtype: object"
      ]
     },
     "execution_count": 63,
     "metadata": {},
     "output_type": "execute_result"
    }
   ],
   "source": [
    "pokemon.sort_values(ascending=False)"
   ]
  },
  {
   "cell_type": "code",
   "execution_count": 66,
   "id": "9f8f9838-3144-485e-b2d5-d75be56884d9",
   "metadata": {},
   "outputs": [
    {
     "data": {
      "text/plain": [
       "Start Date\n",
       "1775-09-17         NaN\n",
       "1775-12-31         NaN\n",
       "1776-03-03         NaN\n",
       "1776-03-25         NaN\n",
       "1776-05-18         NaN\n",
       "                ...   \n",
       "1781-07-06    Virginia\n",
       "1781-07-01    Virginia\n",
       "1781-06-26    Virginia\n",
       "1781-04-25    Virginia\n",
       "1783-01-22    Virginia\n",
       "Name: State, Length: 232, dtype: object"
      ]
     },
     "execution_count": 66,
     "metadata": {},
     "output_type": "execute_result"
    }
   ],
   "source": [
    "battles.sort_values(na_position=\"first\")"
   ]
  },
  {
   "cell_type": "code",
   "execution_count": 68,
   "id": "10b99b8f-70b6-4aa3-b684-b41ce43cc25e",
   "metadata": {},
   "outputs": [
    {
     "data": {
      "text/plain": [
       "Start Date\n",
       "1781-09-06    Connecticut\n",
       "1779-07-05    Connecticut\n",
       "1777-04-27    Connecticut\n",
       "1777-09-03       Delaware\n",
       "1777-05-17        Florida\n",
       "                 ...     \n",
       "1781-07-06       Virginia\n",
       "1781-07-01       Virginia\n",
       "1781-06-26       Virginia\n",
       "1781-04-25       Virginia\n",
       "1783-01-22       Virginia\n",
       "Name: State, Length: 162, dtype: object"
      ]
     },
     "execution_count": 68,
     "metadata": {},
     "output_type": "execute_result"
    }
   ],
   "source": [
    "battles.dropna().sort_values()"
   ]
  },
  {
   "cell_type": "code",
   "execution_count": 69,
   "id": "002c9127-1624-4170-96bd-1a07b7dd2f77",
   "metadata": {},
   "outputs": [
    {
     "data": {
      "text/plain": [
       "Pokemon\n",
       "Abomasnow        Grass / Ice\n",
       "Abra                 Psychic\n",
       "Absol                   Dark\n",
       "Accelgor                 Bug\n",
       "Aegislash      Steel / Ghost\n",
       "                  ...       \n",
       "Zoroark                 Dark\n",
       "Zorua                   Dark\n",
       "Zubat        Poison / Flying\n",
       "Zweilous       Dark / Dragon\n",
       "Zygarde      Dragon / Ground\n",
       "Name: Type, Length: 809, dtype: object"
      ]
     },
     "execution_count": 69,
     "metadata": {},
     "output_type": "execute_result"
    }
   ],
   "source": [
    "pokemon.sort_index()"
   ]
  },
  {
   "cell_type": "code",
   "execution_count": 71,
   "id": "cd2e3036-aa64-4a0c-a6a5-ccec7ea37cad",
   "metadata": {},
   "outputs": [
    {
     "data": {
      "text/plain": [
       "Start Date\n",
       "NaT              New Jersey\n",
       "NaT                Virginia\n",
       "NaT                     NaN\n",
       "NaT                     NaN\n",
       "1774-09-01    Massachusetts\n",
       "                  ...      \n",
       "1782-09-11         Virginia\n",
       "1782-09-13              NaN\n",
       "1782-10-18              NaN\n",
       "1782-12-06              NaN\n",
       "1783-01-22         Virginia\n",
       "Name: State, Length: 232, dtype: object"
      ]
     },
     "execution_count": 71,
     "metadata": {},
     "output_type": "execute_result"
    }
   ],
   "source": [
    "battles.sort_index(na_position=\"first\")"
   ]
  },
  {
   "cell_type": "code",
   "execution_count": 72,
   "id": "4e181203-10f2-4926-8379-bdcbc892b00d",
   "metadata": {},
   "outputs": [
    {
     "data": {
      "text/plain": [
       "Start Date\n",
       "1783-01-22         Virginia\n",
       "1782-12-06              NaN\n",
       "1782-10-18              NaN\n",
       "1782-09-13              NaN\n",
       "1782-09-11         Virginia\n",
       "                  ...      \n",
       "1774-09-01    Massachusetts\n",
       "NaT              New Jersey\n",
       "NaT                Virginia\n",
       "NaT                     NaN\n",
       "NaT                     NaN\n",
       "Name: State, Length: 232, dtype: object"
      ]
     },
     "execution_count": 72,
     "metadata": {},
     "output_type": "execute_result"
    }
   ],
   "source": [
    "battles.sort_index(ascending=False)"
   ]
  },
  {
   "cell_type": "code",
   "execution_count": 74,
   "id": "2e7d9065-1a1d-48a4-93e2-0e62616bc2d7",
   "metadata": {},
   "outputs": [
    {
     "data": {
      "text/plain": [
       "Date\n",
       "2019-04-29    1287.58\n",
       "2019-04-26    1272.18\n",
       "2018-07-26    1268.33\n",
       "2019-10-25    1265.13\n",
       "2019-04-23    1264.55\n",
       "Name: Close, dtype: float64"
      ]
     },
     "execution_count": 74,
     "metadata": {},
     "output_type": "execute_result"
    }
   ],
   "source": [
    "google.sort_values(ascending=False).head(5)"
   ]
  },
  {
   "cell_type": "code",
   "execution_count": 75,
   "id": "040909b9-9118-4649-816c-11c159fb7e96",
   "metadata": {},
   "outputs": [
    {
     "data": {
      "text/plain": [
       "Date\n",
       "2019-04-29    1287.58\n",
       "2019-04-26    1272.18\n",
       "2018-07-26    1268.33\n",
       "2019-10-25    1265.13\n",
       "2019-04-23    1264.55\n",
       "Name: Close, dtype: float64"
      ]
     },
     "execution_count": 75,
     "metadata": {},
     "output_type": "execute_result"
    }
   ],
   "source": [
    "google.nlargest(5)"
   ]
  },
  {
   "cell_type": "code",
   "execution_count": 76,
   "id": "9a6847e1-9e20-43c5-979c-61caaf8c0ed4",
   "metadata": {},
   "outputs": [
    {
     "data": {
      "text/plain": [
       "Date\n",
       "2004-09-03    49.82\n",
       "2004-09-01    49.94\n",
       "2004-08-19    49.98\n",
       "2004-09-02    50.57\n",
       "2004-09-07    50.60\n",
       "Name: Close, dtype: float64"
      ]
     },
     "execution_count": 76,
     "metadata": {},
     "output_type": "execute_result"
    }
   ],
   "source": [
    "google.nsmallest(5)"
   ]
  },
  {
   "cell_type": "code",
   "execution_count": 77,
   "id": "bf651354-fffb-407b-9043-7cd7228f83d5",
   "metadata": {},
   "outputs": [
    {
     "data": {
      "text/plain": [
       "Start Date\n",
       "1774-09-01    Massachusetts\n",
       "1774-12-14    New Hampshire\n",
       "1775-04-19    Massachusetts\n",
       "1775-04-19    Massachusetts\n",
       "1775-04-20         Virginia\n",
       "Name: State, dtype: object"
      ]
     },
     "execution_count": 77,
     "metadata": {},
     "output_type": "execute_result"
    }
   ],
   "source": [
    "battles.head()"
   ]
  },
  {
   "cell_type": "code",
   "execution_count": 85,
   "id": "1fb2d2f3-2890-4480-bead-9d6bcf7746cb",
   "metadata": {},
   "outputs": [],
   "source": [
    "ale = pd.Series(battles)"
   ]
  },
  {
   "cell_type": "code",
   "execution_count": 86,
   "id": "8dde8fc2-4388-43c9-abdd-b7e100ba6480",
   "metadata": {},
   "outputs": [
    {
     "data": {
      "text/plain": [
       "Start Date\n",
       "1774-09-01    Massachusetts\n",
       "1774-12-14    New Hampshire\n",
       "1775-04-19    Massachusetts\n",
       "1775-04-19    Massachusetts\n",
       "1775-04-20         Virginia\n",
       "Name: State, dtype: object"
      ]
     },
     "execution_count": 86,
     "metadata": {},
     "output_type": "execute_result"
    }
   ],
   "source": [
    "ale.head()"
   ]
  },
  {
   "cell_type": "code",
   "execution_count": 88,
   "id": "d49ef51a-c5cf-442a-aea7-ea0c344f68ed",
   "metadata": {},
   "outputs": [
    {
     "data": {
      "text/plain": [
       "Start Date\n",
       "1781-09-06    Connecticut\n",
       "1779-07-05    Connecticut\n",
       "1777-04-27    Connecticut\n",
       "1777-09-03       Delaware\n",
       "1777-05-17        Florida\n",
       "Name: State, dtype: object"
      ]
     },
     "execution_count": 88,
     "metadata": {},
     "output_type": "execute_result"
    }
   ],
   "source": [
    "ale.sort_values(inplace=True)\n",
    "\n",
    "ale.head()"
   ]
  },
  {
   "cell_type": "code",
   "execution_count": 89,
   "id": "2f1f4f96-23d5-49df-a29d-f57d698d83e6",
   "metadata": {},
   "outputs": [
    {
     "data": {
      "text/plain": [
       "Pokemon\n",
       "Bulbasaur      Grass / Poison\n",
       "Ivysaur        Grass / Poison\n",
       "Venusaur       Grass / Poison\n",
       "Charmander               Fire\n",
       "Charmeleon               Fire\n",
       "                    ...      \n",
       "Stakataka        Rock / Steel\n",
       "Blacephalon      Fire / Ghost\n",
       "Zeraora              Electric\n",
       "Meltan                  Steel\n",
       "Melmetal                Steel\n",
       "Name: Type, Length: 809, dtype: object"
      ]
     },
     "execution_count": 89,
     "metadata": {},
     "output_type": "execute_result"
    }
   ],
   "source": [
    "pokemon"
   ]
  },
  {
   "cell_type": "code",
   "execution_count": 93,
   "id": "1390041f-3fa3-4703-819b-5df9296bf0f9",
   "metadata": {},
   "outputs": [
    {
     "data": {
      "text/plain": [
       "Type\n",
       "Fire / Ghost         1\n",
       "Fighting / Dark      1\n",
       "Fighting / Steel     1\n",
       "Normal / Ground      1\n",
       "Fire / Psychic       1\n",
       "                    ..\n",
       "Fire                30\n",
       "Psychic             35\n",
       "Grass               38\n",
       "Water               61\n",
       "Normal              65\n",
       "Name: count, Length: 159, dtype: int64"
      ]
     },
     "execution_count": 93,
     "metadata": {},
     "output_type": "execute_result"
    }
   ],
   "source": [
    "pokemon.value_counts(ascending=True)"
   ]
  },
  {
   "cell_type": "markdown",
   "id": "8e0d328f-9af8-450d-b0af-4567671f2a71",
   "metadata": {},
   "source": [
    "Estos son los valores unicos"
   ]
  },
  {
   "cell_type": "markdown",
   "id": "b6a2c05c-8cb8-4ab1-b13b-a943eb14f107",
   "metadata": {},
   "source": [
    "Estos son los valores unicos"
   ]
  },
  {
   "cell_type": "markdown",
   "id": "96a4342d-6f29-4660-8d5e-fb44ac487362",
   "metadata": {},
   "source": [
    "Estos son los valores unicos"
   ]
  },
  {
   "cell_type": "markdown",
   "id": "2d7aab8a-6938-4a1b-9e00-cf6af98188df",
   "metadata": {},
   "source": [
    "Estos son los valores unicos"
   ]
  },
  {
   "cell_type": "markdown",
   "id": "097489ef-d8d9-4f02-9e91-2260049e7963",
   "metadata": {},
   "source": [
    "Estos son los valores unicos"
   ]
  },
  {
   "cell_type": "code",
   "execution_count": 92,
   "id": "4608f7d0-4775-47ad-a5d1-7e0b08736ad5",
   "metadata": {},
   "outputs": [
    {
     "data": {
      "text/plain": [
       "159"
      ]
     },
     "execution_count": 92,
     "metadata": {},
     "output_type": "execute_result"
    }
   ],
   "source": [
    "pokemon.nunique()"
   ]
  },
  {
   "cell_type": "code",
   "execution_count": 97,
   "id": "22778776-4476-47d6-9797-74a5b9cc6227",
   "metadata": {},
   "outputs": [
    {
     "data": {
      "text/plain": [
       "1.0"
      ]
     },
     "execution_count": 97,
     "metadata": {},
     "output_type": "execute_result"
    }
   ],
   "source": [
    "sum(list(pokemon.value_counts(normalize=True)))"
   ]
  },
  {
   "cell_type": "code",
   "execution_count": 100,
   "id": "cd3d3b85-f97a-4228-9d76-4976375a32a8",
   "metadata": {},
   "outputs": [
    {
     "data": {
      "text/plain": [
       "Type\n",
       "Normal                0.080346\n",
       "Water                 0.075402\n",
       "Grass                 0.046972\n",
       "Psychic               0.043263\n",
       "Fire                  0.037083\n",
       "                        ...   \n",
       "Fire / Psychic        0.001236\n",
       "Normal / Ground       0.001236\n",
       "Psychic / Fighting    0.001236\n",
       "Dark / Ghost          0.001236\n",
       "Fire / Ghost          0.001236\n",
       "Name: proportion, Length: 159, dtype: float64"
      ]
     },
     "execution_count": 100,
     "metadata": {},
     "output_type": "execute_result"
    }
   ],
   "source": [
    "pokemon.value_counts(normalize=True)"
   ]
  },
  {
   "cell_type": "code",
   "execution_count": 102,
   "id": "0e9d0313-1185-45d6-80b6-496b37ee883f",
   "metadata": {},
   "outputs": [
    {
     "data": {
      "text/plain": [
       "Type\n",
       "Normal                8.034611\n",
       "Water                 7.540173\n",
       "Grass                 4.697157\n",
       "Psychic               4.326329\n",
       "Fire                  3.708282\n",
       "                        ...   \n",
       "Fire / Psychic        0.123609\n",
       "Normal / Ground       0.123609\n",
       "Psychic / Fighting    0.123609\n",
       "Dark / Ghost          0.123609\n",
       "Fire / Ghost          0.123609\n",
       "Name: proportion, Length: 159, dtype: float64"
      ]
     },
     "execution_count": 102,
     "metadata": {},
     "output_type": "execute_result"
    }
   ],
   "source": [
    "(pokemon.value_counts(normalize=True) * 100)"
   ]
  },
  {
   "cell_type": "code",
   "execution_count": 101,
   "id": "2c66f9d0-c267-4ac3-91de-84dfc224e3a3",
   "metadata": {},
   "outputs": [
    {
     "data": {
      "text/plain": [
       "Type\n",
       "Normal                8.03\n",
       "Water                 7.54\n",
       "Grass                 4.70\n",
       "Psychic               4.33\n",
       "Fire                  3.71\n",
       "                      ... \n",
       "Fire / Psychic        0.12\n",
       "Normal / Ground       0.12\n",
       "Psychic / Fighting    0.12\n",
       "Dark / Ghost          0.12\n",
       "Fire / Ghost          0.12\n",
       "Name: proportion, Length: 159, dtype: float64"
      ]
     },
     "execution_count": 101,
     "metadata": {},
     "output_type": "execute_result"
    }
   ],
   "source": [
    "(pokemon.value_counts(normalize=True) * 100).round(2)"
   ]
  },
  {
   "cell_type": "code",
   "execution_count": 106,
   "id": "0a9145c1-ee14-473f-807e-4a6120ad260a",
   "metadata": {},
   "outputs": [
    {
     "data": {
      "text/plain": [
       "Date\n",
       "2004-08-19      49.98\n",
       "2004-08-20      53.95\n",
       "2004-08-23      54.50\n",
       "2004-08-24      52.24\n",
       "2004-08-25      52.80\n",
       "               ...   \n",
       "2019-10-21    1246.15\n",
       "2019-10-22    1242.80\n",
       "2019-10-23    1259.13\n",
       "2019-10-24    1260.99\n",
       "2019-10-25    1265.13\n",
       "Name: Close, Length: 3824, dtype: float64"
      ]
     },
     "execution_count": 106,
     "metadata": {},
     "output_type": "execute_result"
    }
   ],
   "source": [
    "google"
   ]
  },
  {
   "cell_type": "code",
   "execution_count": 121,
   "id": "48220361-a477-43c0-ac96-4f69b0185d28",
   "metadata": {},
   "outputs": [
    {
     "data": {
      "text/plain": [
       "1287.58"
      ]
     },
     "execution_count": 121,
     "metadata": {},
     "output_type": "execute_result"
    }
   ],
   "source": [
    "google.max()"
   ]
  },
  {
   "cell_type": "code",
   "execution_count": 120,
   "id": "f58af317-e68e-42db-b978-bec454a2cec6",
   "metadata": {},
   "outputs": [
    {
     "data": {
      "text/plain": [
       "49.82"
      ]
     },
     "execution_count": 120,
     "metadata": {},
     "output_type": "execute_result"
    }
   ],
   "source": [
    "google.min()"
   ]
  },
  {
   "cell_type": "markdown",
   "id": "b684d552-ca49-4af5-8dfc-012ade93703c",
   "metadata": {},
   "source": [
    "this is an histogram"
   ]
  },
  {
   "cell_type": "code",
   "execution_count": 117,
   "id": "89884bb8-ded9-414e-ae5a-695efbdface7",
   "metadata": {},
   "outputs": [
    {
     "data": {
      "text/plain": [
       "(-0.001, 200.0]      595\n",
       "(200.0, 400.0]      1568\n",
       "(400.0, 600.0]       575\n",
       "(600.0, 800.0]       380\n",
       "(800.0, 1000.0]      207\n",
       "(1000.0, 1200.0]     406\n",
       "(1200.0, 1400.0]      93\n",
       "Name: count, dtype: int64"
      ]
     },
     "execution_count": 117,
     "metadata": {},
     "output_type": "execute_result"
    }
   ],
   "source": [
    "buckets = [0,200,400,600,800,1000,1200,1400]\n",
    "\n",
    "google.value_counts(bins=buckets).sort_index()\n",
    "google.value_counts(bins=buckets, sort=False)"
   ]
  },
  {
   "cell_type": "markdown",
   "id": "577e8c60-3a6b-4e04-97f1-85642cbadc48",
   "metadata": {},
   "source": [
    "Esta esta chida!"
   ]
  },
  {
   "cell_type": "code",
   "execution_count": 119,
   "id": "3c29bfd3-2848-4fef-bf8a-fe51e0cbcb5e",
   "metadata": {},
   "outputs": [
    {
     "data": {
      "text/plain": [
       "(48.581, 256.113]      1204\n",
       "(256.113, 462.407]     1104\n",
       "(462.407, 668.7]        507\n",
       "(668.7, 874.993]        380\n",
       "(874.993, 1081.287]     292\n",
       "(1081.287, 1287.58]     337\n",
       "Name: count, dtype: int64"
      ]
     },
     "execution_count": 119,
     "metadata": {},
     "output_type": "execute_result"
    }
   ],
   "source": [
    "google.value_counts(bins=6, sort=False)"
   ]
  },
  {
   "cell_type": "code",
   "execution_count": 124,
   "id": "de456868-da70-4531-986a-20d6273267fd",
   "metadata": {},
   "outputs": [
    {
     "data": {
      "text/plain": [
       "State\n",
       "NaN               70\n",
       "South Carolina    31\n",
       "New York          28\n",
       "New Jersey        24\n",
       "Virginia          21\n",
       "Massachusetts     11\n",
       "Pennsylvania      10\n",
       "North Carolina     9\n",
       "Florida            8\n",
       "Georgia            6\n",
       "Rhode Island       3\n",
       "Connecticut        3\n",
       "Vermont            3\n",
       "New Hampshire      1\n",
       "Delaware           1\n",
       "Indiana            1\n",
       "Louisiana          1\n",
       "Ohio               1\n",
       "Name: count, dtype: int64"
      ]
     },
     "execution_count": 124,
     "metadata": {},
     "output_type": "execute_result"
    }
   ],
   "source": [
    "battles.value_counts(dropna=False)"
   ]
  },
  {
   "cell_type": "code",
   "execution_count": 125,
   "id": "0f40ea27-63eb-4a39-8297-4a4d45e8f6e1",
   "metadata": {},
   "outputs": [
    {
     "data": {
      "text/plain": [
       "DatetimeIndex(['1774-09-01', '1774-12-14', '1775-04-19', '1775-04-19',\n",
       "               '1775-04-20', '1775-05-10', '1775-05-27', '1775-06-11',\n",
       "               '1775-06-17', '1775-08-08',\n",
       "               ...\n",
       "               '1782-08-08', '1782-08-15', '1782-08-19', '1782-08-26',\n",
       "               '1782-08-25', '1782-09-11', '1782-09-13', '1782-10-18',\n",
       "               '1782-12-06', '1783-01-22'],\n",
       "              dtype='datetime64[ns]', name='Start Date', length=232, freq=None)"
      ]
     },
     "execution_count": 125,
     "metadata": {},
     "output_type": "execute_result"
    }
   ],
   "source": [
    "battles.index"
   ]
  },
  {
   "cell_type": "code",
   "execution_count": 128,
   "id": "6ba7eb94-7a79-45a6-8e68-527023c0ec4e",
   "metadata": {},
   "outputs": [
    {
     "data": {
      "text/plain": [
       "Start Date\n",
       "1781-04-25    2\n",
       "1781-05-22    2\n",
       "1780-08-18    2\n",
       "1781-09-13    2\n",
       "1782-03-16    2\n",
       "             ..\n",
       "1778-06-30    1\n",
       "1778-07-03    1\n",
       "1778-07-27    1\n",
       "1778-08-21    1\n",
       "1783-01-22    1\n",
       "Name: count, Length: 217, dtype: int64"
      ]
     },
     "execution_count": 128,
     "metadata": {},
     "output_type": "execute_result"
    }
   ],
   "source": [
    "battles.index.value_counts()"
   ]
  },
  {
   "cell_type": "code",
   "execution_count": 132,
   "id": "52ac90f4-d6bc-43e4-a514-f1a1f6e19e88",
   "metadata": {},
   "outputs": [
    {
     "name": "stdout",
     "output_type": "stream",
     "text": [
      "3824\n",
      "1287.58\n",
      "49.82\n"
     ]
    }
   ],
   "source": [
    "funcs = [len, max, min]\n",
    "\n",
    "for i in funcs:\n",
    "    print(i(google))"
   ]
  },
  {
   "cell_type": "code",
   "execution_count": 133,
   "id": "e0a2d326-ac08-4fc2-8f40-8aea66bab01f",
   "metadata": {},
   "outputs": [
    {
     "data": {
      "text/plain": [
       "Date\n",
       "2004-08-19      49.98\n",
       "2004-08-20      53.95\n",
       "2004-08-23      54.50\n",
       "2004-08-24      52.24\n",
       "2004-08-25      52.80\n",
       "               ...   \n",
       "2019-10-21    1246.15\n",
       "2019-10-22    1242.80\n",
       "2019-10-23    1259.13\n",
       "2019-10-24    1260.99\n",
       "2019-10-25    1265.13\n",
       "Name: Close, Length: 3824, dtype: float64"
      ]
     },
     "execution_count": 133,
     "metadata": {},
     "output_type": "execute_result"
    }
   ],
   "source": [
    "google"
   ]
  },
  {
   "cell_type": "code",
   "execution_count": 134,
   "id": "189a4c14-a60e-4304-bd2d-e38a7b8be73a",
   "metadata": {},
   "outputs": [
    {
     "data": {
      "text/plain": [
       "Date\n",
       "2004-08-19      50\n",
       "2004-08-20      54\n",
       "2004-08-23      54\n",
       "2004-08-24      52\n",
       "2004-08-25      53\n",
       "              ... \n",
       "2019-10-21    1246\n",
       "2019-10-22    1243\n",
       "2019-10-23    1259\n",
       "2019-10-24    1261\n",
       "2019-10-25    1265\n",
       "Name: Close, Length: 3824, dtype: int64"
      ]
     },
     "execution_count": 134,
     "metadata": {},
     "output_type": "execute_result"
    }
   ],
   "source": [
    "google.apply(round)"
   ]
  },
  {
   "cell_type": "code",
   "execution_count": 135,
   "id": "7402e949-8edf-401a-a783-9ab9731b479f",
   "metadata": {},
   "outputs": [
    {
     "data": {
      "text/plain": [
       "Date\n",
       "2004-08-19      49.98\n",
       "2004-08-20      53.95\n",
       "2004-08-23      54.50\n",
       "2004-08-24      52.24\n",
       "2004-08-25      52.80\n",
       "               ...   \n",
       "2019-10-21    1246.15\n",
       "2019-10-22    1242.80\n",
       "2019-10-23    1259.13\n",
       "2019-10-24    1260.99\n",
       "2019-10-25    1265.13\n",
       "Name: Close, Length: 3824, dtype: float64"
      ]
     },
     "execution_count": 135,
     "metadata": {},
     "output_type": "execute_result"
    }
   ],
   "source": [
    "google"
   ]
  },
  {
   "cell_type": "code",
   "execution_count": 136,
   "id": "78982958-9de8-4250-a848-ebc7ca0920e2",
   "metadata": {},
   "outputs": [
    {
     "data": {
      "text/plain": [
       "Pokemon\n",
       "Bulbasaur      Grass / Poison\n",
       "Ivysaur        Grass / Poison\n",
       "Venusaur       Grass / Poison\n",
       "Charmander               Fire\n",
       "Charmeleon               Fire\n",
       "                    ...      \n",
       "Stakataka        Rock / Steel\n",
       "Blacephalon      Fire / Ghost\n",
       "Zeraora              Electric\n",
       "Meltan                  Steel\n",
       "Melmetal                Steel\n",
       "Name: Type, Length: 809, dtype: object"
      ]
     },
     "execution_count": 136,
     "metadata": {},
     "output_type": "execute_result"
    }
   ],
   "source": [
    "pokemon"
   ]
  },
  {
   "cell_type": "code",
   "execution_count": 139,
   "id": "160f9180-5da7-496c-b5d9-10ac03d872b7",
   "metadata": {},
   "outputs": [
    {
     "data": {
      "text/plain": [
       "Type\n",
       "Multi     405\n",
       "Single    404\n",
       "Name: count, dtype: int64"
      ]
     },
     "execution_count": 139,
     "metadata": {},
     "output_type": "execute_result"
    }
   ],
   "source": [
    "def single_or_multi(t):\n",
    "    if \"/\" in t:\n",
    "        return \"Multi\"\n",
    "\n",
    "    return \"Single\"\n",
    "\n",
    "pokemon.apply(single_or_multi).value_counts()\n",
    "    "
   ]
  },
  {
   "cell_type": "code",
   "execution_count": 141,
   "id": "97bb2f9f-5d5f-47ca-ac0d-97a0819cc26c",
   "metadata": {},
   "outputs": [
    {
     "data": {
      "text/plain": [
       "Start Date\n",
       "1774-09-01    Massachusetts\n",
       "1774-12-14    New Hampshire\n",
       "1775-04-19    Massachusetts\n",
       "1775-04-19    Massachusetts\n",
       "1775-04-20         Virginia\n",
       "                  ...      \n",
       "1782-09-11         Virginia\n",
       "1782-09-13              NaN\n",
       "1782-10-18              NaN\n",
       "1782-12-06              NaN\n",
       "1783-01-22         Virginia\n",
       "Name: State, Length: 232, dtype: object"
      ]
     },
     "execution_count": 141,
     "metadata": {},
     "output_type": "execute_result"
    }
   ],
   "source": [
    "battles"
   ]
  }
 ],
 "metadata": {
  "kernelspec": {
   "display_name": "Python 3 (ipykernel)",
   "language": "python",
   "name": "python3"
  },
  "language_info": {
   "codemirror_mode": {
    "name": "ipython",
    "version": 3
   },
   "file_extension": ".py",
   "mimetype": "text/x-python",
   "name": "python",
   "nbconvert_exporter": "python",
   "pygments_lexer": "ipython3",
   "version": "3.13.7"
  }
 },
 "nbformat": 4,
 "nbformat_minor": 5
}
