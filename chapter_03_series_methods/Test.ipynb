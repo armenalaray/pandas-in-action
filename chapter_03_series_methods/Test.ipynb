{
 "cells": [
  {
   "cell_type": "code",
   "execution_count": 2,
   "id": "f2eb57e0-b61b-4868-960c-df1a14fd6cdb",
   "metadata": {},
   "outputs": [],
   "source": [
    "import pandas as pd\n",
    "import datetime as dt"
   ]
  },
  {
   "cell_type": "code",
   "execution_count": 5,
   "id": "5d1c1534-79bd-46e4-ba0c-e0e1cbdd4962",
   "metadata": {},
   "outputs": [
    {
     "data": {
      "text/plain": [
       "'Saturday'"
      ]
     },
     "execution_count": 5,
     "metadata": {},
     "output_type": "execute_result"
    }
   ],
   "source": [
    "today = dt.datetime(2020,12,26)\n",
    "today.strftime(\"%A\")"
   ]
  },
  {
   "cell_type": "code",
   "execution_count": 33,
   "id": "76d32d52-e147-4c7b-9ec0-520fc06736a0",
   "metadata": {},
   "outputs": [
    {
     "data": {
      "text/plain": [
       "Start Date\n",
       "NaT           4\n",
       "1777-08-22    2\n",
       "1781-05-22    2\n",
       "1782-01-11    2\n",
       "1780-08-18    2\n",
       "             ..\n",
       "1778-06-30    1\n",
       "1778-07-03    1\n",
       "1778-07-27    1\n",
       "1778-08-21    1\n",
       "1783-01-22    1\n",
       "Name: count, Length: 218, dtype: int64"
      ]
     },
     "execution_count": 33,
     "metadata": {},
     "output_type": "execute_result"
    }
   ],
   "source": [
    "days_of_war = pd.read_csv(\n",
    "    filepath_or_buffer=\"revolutionary_war.csv\", \n",
    "    parse_dates=[\"Start Date\"], \n",
    "    usecols=[\"Start Date\"]\n",
    ").squeeze()\n",
    "\n",
    "days_of_war.value_counts(dropna=False)"
   ]
  },
  {
   "cell_type": "markdown",
   "id": "acd7af1e-603b-40e2-9abd-e9f8c5909868",
   "metadata": {},
   "source": [
    "la mayor cantidad de guerras fue el sabado "
   ]
  },
  {
   "cell_type": "code",
   "execution_count": 42,
   "id": "9aca6f63-d496-431d-a27c-aedeef378a9a",
   "metadata": {},
   "outputs": [
    {
     "data": {
      "text/plain": [
       "Start Date\n",
       "Saturday     39\n",
       "Friday       39\n",
       "Wednesday    32\n",
       "Thursday     31\n",
       "Sunday       31\n",
       "Tuesday      29\n",
       "Monday       27\n",
       "Name: count, dtype: int64"
      ]
     },
     "execution_count": 42,
     "metadata": {},
     "output_type": "execute_result"
    }
   ],
   "source": [
    "def convert(date):\n",
    "    return date.strftime(\"%A\")\n",
    "\n",
    "#days_of_war.dropna().value_counts(dropna=False)\n",
    "\n",
    "days = days_of_war.dropna().apply(convert)\n",
    "\n",
    "days.value_counts()\n"
   ]
  }
 ],
 "metadata": {
  "kernelspec": {
   "display_name": "Python 3 (ipykernel)",
   "language": "python",
   "name": "python3"
  },
  "language_info": {
   "codemirror_mode": {
    "name": "ipython",
    "version": 3
   },
   "file_extension": ".py",
   "mimetype": "text/x-python",
   "name": "python",
   "nbconvert_exporter": "python",
   "pygments_lexer": "ipython3",
   "version": "3.13.7"
  }
 },
 "nbformat": 4,
 "nbformat_minor": 5
}
