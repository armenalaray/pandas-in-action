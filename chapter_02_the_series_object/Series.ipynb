{
 "cells": [
  {
   "cell_type": "code",
   "execution_count": 2,
   "id": "1da9652f-a0bf-4ab2-804e-e1978a73324c",
   "metadata": {},
   "outputs": [],
   "source": [
    "import pandas as pd\n",
    "import numpy as np"
   ]
  },
  {
   "cell_type": "code",
   "execution_count": 3,
   "id": "5042f1ae-065e-4fcc-98fa-393b9016fd54",
   "metadata": {},
   "outputs": [
    {
     "data": {
      "text/plain": [
       "Monday        Chocolate\n",
       "Wednesday       Vanilla\n",
       "Friday       Strawberry\n",
       "Saturday     Rum Raisin\n",
       "dtype: object"
      ]
     },
     "execution_count": 3,
     "metadata": {},
     "output_type": "execute_result"
    }
   ],
   "source": [
    "ice_cream_flavors = [\n",
    "    \"Chocolate\", \n",
    "    \"Vanilla\", \n",
    "    \"Strawberry\", \n",
    "    \"Rum Raisin\",  \n",
    "]\n",
    "\n",
    "days_of_week = (\"Monday\", \"Wednesday\", \"Friday\", \"Saturday\")\n",
    "\n",
    "pd.Series(data=ice_cream_flavors, index=days_of_week)"
   ]
  },
  {
   "cell_type": "code",
   "execution_count": 4,
   "id": "86e1d16f-27a7-4bcc-9641-8d66d83821da",
   "metadata": {},
   "outputs": [
    {
     "data": {
      "text/plain": [
       "Monday        Chocolate\n",
       "Wednesday       Vanilla\n",
       "Friday       Strawberry\n",
       "Wednesday    Rum Raisin\n",
       "dtype: object"
      ]
     },
     "execution_count": 4,
     "metadata": {},
     "output_type": "execute_result"
    }
   ],
   "source": [
    "ice_cream_flavors = [\n",
    "    \"Chocolate\", \n",
    "    \"Vanilla\", \n",
    "    \"Strawberry\", \n",
    "    \"Rum Raisin\",  \n",
    "]\n",
    "\n",
    "days_of_week = (\"Monday\", \"Wednesday\", \"Friday\", \"Wednesday\")\n",
    "\n",
    "pd.Series(data=ice_cream_flavors, index=days_of_week)"
   ]
  },
  {
   "cell_type": "code",
   "execution_count": 5,
   "id": "a833e781-5335-4fce-abf1-430cd0830140",
   "metadata": {},
   "outputs": [
    {
     "data": {
      "text/plain": [
       "0     4.0\n",
       "1     8.0\n",
       "2    15.0\n",
       "3    16.0\n",
       "4    23.0\n",
       "5    42.0\n",
       "dtype: float64"
      ]
     },
     "execution_count": 5,
     "metadata": {},
     "output_type": "execute_result"
    }
   ],
   "source": [
    "lucky_numbers = [4,8,15,16,23,42]\n",
    "pd.Series(lucky_numbers, dtype=\"float\")"
   ]
  },
  {
   "cell_type": "code",
   "execution_count": 6,
   "id": "a52ec0b6-1710-4792-9ec6-03b95ca44311",
   "metadata": {},
   "outputs": [
    {
     "data": {
      "text/plain": [
       "0    94.0\n",
       "1    88.0\n",
       "2     NaN\n",
       "3    91.0\n",
       "dtype: float64"
      ]
     },
     "execution_count": 6,
     "metadata": {},
     "output_type": "execute_result"
    }
   ],
   "source": [
    "temperatures = [94, 88, np.nan, 91]\n",
    "\n",
    "pd.Series(data=temperatures)\n"
   ]
  },
  {
   "cell_type": "markdown",
   "id": "ea6a6dee-33ac-4d07-bf1b-c5e80455bbd5",
   "metadata": {},
   "source": [
    "So numpy is the son \n",
    "\n",
    "Realmente estoy trabajando con numpy"
   ]
  },
  {
   "cell_type": "code",
   "execution_count": 23,
   "id": "f55abc57-8953-476c-8639-6f5e12e64cb7",
   "metadata": {},
   "outputs": [
    {
     "data": {
      "text/plain": [
       "False"
      ]
     },
     "execution_count": 23,
     "metadata": {},
     "output_type": "execute_result"
    }
   ],
   "source": [
    "calorie_info = {\n",
    "    \"Cereal\":125,\n",
    "    \"Chocolate Bar\":406,\n",
    "    \"Ice Cream Sundae\":342,\n",
    "}\n",
    "\n",
    "diet = pd.Series(calorie_info)\n",
    "type(diet.values)\n",
    "diet.index\n",
    "diet.dtype\n",
    "diet.size\n",
    "diet.shape\n",
    "diet.is_unique\n",
    "\n",
    "pd.Series(data=[3,3]).is_unique\n",
    "\n",
    "pd.Series(data=[1,3,6]).is_monotonic_increasing\n",
    "\n",
    "pd.Series(data=[1,6,3]).is_monotonic_increasing\n"
   ]
  },
  {
   "cell_type": "code",
   "execution_count": 34,
   "id": "caeaaaa9-8c1e-4af0-8090-8e830ef5736a",
   "metadata": {},
   "outputs": [
    {
     "data": {
      "text/plain": [
       "pandas.core.series.Series"
      ]
     },
     "execution_count": 34,
     "metadata": {},
     "output_type": "execute_result"
    }
   ],
   "source": [
    "rgb = [(120,41,26),(196,165,45)]\n",
    "\n",
    "type(pd.Series(rgb))"
   ]
  },
  {
   "cell_type": "code",
   "execution_count": 38,
   "id": "4c81e212-c1cc-42db-9054-31d36b5a4736",
   "metadata": {},
   "outputs": [
    {
     "data": {
      "text/plain": [
       "0    26\n",
       "1    67\n",
       "2    47\n",
       "3    97\n",
       "4    59\n",
       "5    39\n",
       "6    53\n",
       "7    20\n",
       "8    76\n",
       "9    78\n",
       "dtype: int32"
      ]
     },
     "execution_count": 38,
     "metadata": {},
     "output_type": "execute_result"
    }
   ],
   "source": [
    "random = np.random.randint(1,101,10)\n",
    "\n",
    "pd.Series(random)"
   ]
  },
  {
   "cell_type": "code",
   "execution_count": 32,
   "id": "8173bbc0-d9c1-46af-8416-cfa1c3a1d7a3",
   "metadata": {},
   "outputs": [
    {
     "data": {
      "text/plain": [
       "94    470\n",
       "95    475\n",
       "96    480\n",
       "97    485\n",
       "98    490\n",
       "99    495\n",
       "dtype: int64"
      ]
     },
     "execution_count": 32,
     "metadata": {},
     "output_type": "execute_result"
    }
   ],
   "source": [
    "values = range(0,500,5)\n",
    "nums = pd.Series(data=values)\n",
    "nums.head()\n",
    "nums.tail(6)"
   ]
  },
  {
   "cell_type": "code",
   "execution_count": 51,
   "id": "be16f394-ac1a-4a4c-8130-2d11fe449955",
   "metadata": {},
   "outputs": [
    {
     "data": {
      "text/plain": [
       "0    San Francisco\n",
       "1      Los Angeles\n",
       "2        Las Vegas\n",
       "3              NaN\n",
       "dtype: object"
      ]
     },
     "execution_count": 51,
     "metadata": {},
     "output_type": "execute_result"
    }
   ],
   "source": [
    "values = [\"San Francisco\", \"Los Angeles\", \"Las Vegas\", np.nan]\n",
    "cities = pd.Series(data=values)\n",
    "cities\n",
    "\n"
   ]
  },
  {
   "cell_type": "code",
   "execution_count": 57,
   "id": "96e35fed-320d-4965-926e-bffb24a83a97",
   "metadata": {},
   "outputs": [
    {
     "data": {
      "text/plain": [
       "True"
      ]
     },
     "execution_count": 57,
     "metadata": {},
     "output_type": "execute_result"
    }
   ],
   "source": [
    "dict(cities)\n",
    "\n",
    "#2 in cities\n",
    "\n",
    "100 not in cities\n",
    "\n",
    "np.nan not in cities.values"
   ]
  }
 ],
 "metadata": {
  "kernelspec": {
   "display_name": "Python 3 (ipykernel)",
   "language": "python",
   "name": "python3"
  },
  "language_info": {
   "codemirror_mode": {
    "name": "ipython",
    "version": 3
   },
   "file_extension": ".py",
   "mimetype": "text/x-python",
   "name": "python",
   "nbconvert_exporter": "python",
   "pygments_lexer": "ipython3",
   "version": "3.13.7"
  }
 },
 "nbformat": 4,
 "nbformat_minor": 5
}
